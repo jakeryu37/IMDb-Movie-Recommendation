{
 "cells": [
  {
   "cell_type": "markdown",
   "metadata": {},
   "source": [
    "# Feature Film, Released between 1990-01-01 and 2022-12-31, Rating Count at least 5,000, United States (Sorted by IMDb Rating Descending)\n",
    "## Data Scraping"
   ]
  },
  {
   "cell_type": "code",
   "execution_count": 2,
   "metadata": {},
   "outputs": [
    {
     "ename": "KeyboardInterrupt",
     "evalue": "",
     "output_type": "error",
     "traceback": [
      "\u001b[0;31m---------------------------------------------------------------------------\u001b[0m",
      "\u001b[0;31mKeyboardInterrupt\u001b[0m                         Traceback (most recent call last)",
      "\u001b[1;32m/Users/jakeryu/Desktop/codestates/Section3/Project/data_scraping.ipynb Cell 2\u001b[0m in \u001b[0;36m<cell line: 23>\u001b[0;34m()\u001b[0m\n\u001b[1;32m     <a href='vscode-notebook-cell:/Users/jakeryu/Desktop/codestates/Section3/Project/data_scraping.ipynb#W0sZmlsZQ%3D%3D?line=25'>26</a>\u001b[0m soup \u001b[39m=\u001b[39m BeautifulSoup(response\u001b[39m.\u001b[39mcontent, \u001b[39m'\u001b[39m\u001b[39mhtml.parser\u001b[39m\u001b[39m'\u001b[39m)\n\u001b[1;32m     <a href='vscode-notebook-cell:/Users/jakeryu/Desktop/codestates/Section3/Project/data_scraping.ipynb#W0sZmlsZQ%3D%3D?line=26'>27</a>\u001b[0m movie_div \u001b[39m=\u001b[39m soup\u001b[39m.\u001b[39mfind_all(\u001b[39m'\u001b[39m\u001b[39mdiv\u001b[39m\u001b[39m'\u001b[39m, class_\u001b[39m=\u001b[39m\u001b[39m'\u001b[39m\u001b[39mlister-item mode-advanced\u001b[39m\u001b[39m'\u001b[39m)\n\u001b[0;32m---> <a href='vscode-notebook-cell:/Users/jakeryu/Desktop/codestates/Section3/Project/data_scraping.ipynb#W0sZmlsZQ%3D%3D?line=28'>29</a>\u001b[0m sleep(randint(\u001b[39m2\u001b[39;49m,\u001b[39m8\u001b[39;49m))\n\u001b[1;32m     <a href='vscode-notebook-cell:/Users/jakeryu/Desktop/codestates/Section3/Project/data_scraping.ipynb#W0sZmlsZQ%3D%3D?line=30'>31</a>\u001b[0m \u001b[39mfor\u001b[39;00m container \u001b[39min\u001b[39;00m movie_div:\n\u001b[1;32m     <a href='vscode-notebook-cell:/Users/jakeryu/Desktop/codestates/Section3/Project/data_scraping.ipynb#W0sZmlsZQ%3D%3D?line=31'>32</a>\u001b[0m     title \u001b[39m=\u001b[39m container\u001b[39m.\u001b[39mh3\u001b[39m.\u001b[39ma\u001b[39m.\u001b[39mtext\n",
      "\u001b[0;31mKeyboardInterrupt\u001b[0m: "
     ]
    }
   ],
   "source": [
    "import pandas as pd\n",
    "import requests\n",
    "from bs4 import BeautifulSoup\n",
    "import numpy as np\n",
    "from time import sleep\n",
    "from random import randint\n",
    "\n",
    "headers = {\"Accept-Language\": \"en-US,en;q=0.5\"}\n",
    "\n",
    "titles = []\n",
    "years = []\n",
    "runtimes = []\n",
    "genres = []\n",
    "ratings = []\n",
    "metascores = []\n",
    "votes = []\n",
    "grosses = []\n",
    "directors = []\n",
    "casts = []\n",
    "\n",
    "#Feature Film, Released between 1990-01-01 and 2022-12-31, Rating Count at least 5,000, United States (Sorted by IMDb Rating Descending)\n",
    "\n",
    "for i in range(1, 7501, 250):\n",
    "    url = 'https://www.imdb.com/search/title/?title_type=feature&release_date=1990-01-01,2022-12-31&num_votes=5000,&countries=us&sort=user_rating,desc&count=250&start='+ str(i) +'&ref_=adv_nxt'\n",
    "    response = requests.get(url)\n",
    "    soup = BeautifulSoup(response.content, 'html.parser')\n",
    "    movie_div = soup.find_all('div', class_='lister-item mode-advanced')\n",
    "\n",
    "    sleep(randint(2,8))\n",
    "\n",
    "    for container in movie_div:\n",
    "        title = container.h3.a.text\n",
    "        titles.append(title)\n",
    "\n",
    "        year = container.h3.find('span', class_='lister-item-year').text.replace('(', '').replace(')', '')\n",
    "        years.append(year)\n",
    "\n",
    "        time = container.p.find('span', class_='runtime').text.strip().replace(' min', '') if container.p.find('span', class_='runtime') else None\n",
    "        runtimes.append(time)        # runtime in mins\n",
    "\n",
    "        genre = container.p.find('span', class_='genre').text.strip() if container.p.find('span', class_='genre') else None\n",
    "        genres.append(genre)\n",
    "\n",
    "        imdb = float(container.strong.text)\n",
    "        ratings.append(imdb)\n",
    "\n",
    "        metascore = container.find('span', class_='metascore').text.strip() if container.find('span', class_='metascore') else None\n",
    "        metascores.append(metascore)\n",
    "\n",
    "        nv = container.find_all('span', attrs={'name': 'nv'})\n",
    "\n",
    "        vote = nv[0].text\n",
    "        votes.append(vote)\n",
    "\n",
    "        gross = nv[1].text if len(nv) > 1 else None\n",
    "        grosses.append(gross)\n",
    "\n",
    "        director = container.find('p', class_=\"\").text.split('|')[0].replace('\\n', '').split(':')[1] if container.find('p', class_=\"\") else None\n",
    "        directors.append(director)\n",
    "\n",
    "        try:\n",
    "          cast = container.find('p', class_=\"\").text.split('|')[1].replace('\\n', '').split(':')[1]\n",
    "        except:\n",
    "          cast = None\n",
    "        casts.append(cast)\n",
    "\n",
    "movies = pd.DataFrame({\n",
    "    'movie': titles,\n",
    "    'year': years,\n",
    "    'runtime(mins)': runtimes,\n",
    "    'genres': genres,\n",
    "    'rating': ratings,\n",
    "    'metascore': metascores,\n",
    "    'votes': votes,\n",
    "    'gross($M)': grosses,\n",
    "    'director(s)': directors,\n",
    "    'casts': casts\n",
    "})"
   ]
  },
  {
   "cell_type": "code",
   "execution_count": null,
   "metadata": {},
   "outputs": [
    {
     "name": "stdout",
     "output_type": "stream",
     "text": [
      "<class 'pandas.core.frame.DataFrame'>\n",
      "RangeIndex: 7345 entries, 0 to 7344\n",
      "Data columns (total 10 columns):\n",
      " #   Column         Non-Null Count  Dtype  \n",
      "---  ------         --------------  -----  \n",
      " 0   movie          7345 non-null   object \n",
      " 1   year           7345 non-null   int64  \n",
      " 2   runtime(mins)  7345 non-null   int64  \n",
      " 3   genres         7345 non-null   object \n",
      " 4   rating         7345 non-null   float64\n",
      " 5   metascore      6299 non-null   float64\n",
      " 6   votes          7345 non-null   int64  \n",
      " 7   gross($M)      5589 non-null   float64\n",
      " 8   director(s)    7345 non-null   object \n",
      " 9   casts          7344 non-null   object \n",
      "dtypes: float64(3), int64(3), object(4)\n",
      "memory usage: 574.0+ KB\n"
     ]
    }
   ],
   "source": [
    "movies.info()"
   ]
  },
  {
   "cell_type": "code",
   "execution_count": null,
   "metadata": {},
   "outputs": [],
   "source": [
    "movies['year'] = movies['year'].str.extract('(\\d+)').astype(int)\n",
    "movies['runtime(mins)'] = movies['runtime(mins)'].astype(int)\n",
    "movies['votes'] = movies['votes'].str.replace(',', '').astype(int)\n",
    "movies['metascore'] = pd.to_numeric(movies['metascore'])\n",
    "movies['gross($M)'] = movies['gross($M)'].str.extract('(\\d+.\\d+)').astype(float)"
   ]
  },
  {
   "cell_type": "code",
   "execution_count": null,
   "metadata": {},
   "outputs": [
    {
     "ename": "NameError",
     "evalue": "name 'movies' is not defined",
     "output_type": "error",
     "traceback": [
      "\u001b[0;31m---------------------------------------------------------------------------\u001b[0m",
      "\u001b[0;31mNameError\u001b[0m                                 Traceback (most recent call last)",
      "\u001b[1;32m/Users/jakeryu/Desktop/codestates/Section3/Project/data_scraping.ipynb Cell 5\u001b[0m in \u001b[0;36m<cell line: 1>\u001b[0;34m()\u001b[0m\n\u001b[0;32m----> <a href='vscode-notebook-cell:/Users/jakeryu/Desktop/codestates/Section3/Project/data_scraping.ipynb#W6sZmlsZQ%3D%3D?line=0'>1</a>\u001b[0m movies\n",
      "\u001b[0;31mNameError\u001b[0m: name 'movies' is not defined"
     ]
    }
   ],
   "source": [
    "movies"
   ]
  },
  {
   "cell_type": "code",
   "execution_count": null,
   "metadata": {},
   "outputs": [],
   "source": [
    "movies.to_csv('movies.csv', index=False)"
   ]
  }
 ],
 "metadata": {
  "kernelspec": {
   "display_name": "Python 3.8.13 ('project3')",
   "language": "python",
   "name": "python3"
  },
  "language_info": {
   "codemirror_mode": {
    "name": "ipython",
    "version": 3
   },
   "file_extension": ".py",
   "mimetype": "text/x-python",
   "name": "python",
   "nbconvert_exporter": "python",
   "pygments_lexer": "ipython3",
   "version": "3.8.13"
  },
  "orig_nbformat": 4,
  "vscode": {
   "interpreter": {
    "hash": "912366b06ac910cb854ed8846e42a592915138bc7315d816dfcade5d9d49196c"
   }
  }
 },
 "nbformat": 4,
 "nbformat_minor": 2
}
